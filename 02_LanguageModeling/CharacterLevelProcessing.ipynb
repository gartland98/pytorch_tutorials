{
 "cells": [
  {
   "cell_type": "code",
   "execution_count": 1,
   "metadata": {},
   "outputs": [],
   "source": [
    "import hgtk"
   ]
  },
  {
   "cell_type": "code",
   "execution_count": 9,
   "metadata": {},
   "outputs": [],
   "source": [
    "text = '영화평점'"
   ]
  },
  {
   "cell_type": "code",
   "execution_count": 18,
   "metadata": {},
   "outputs": [
    {
     "data": {
      "text/plain": [
       "'ㅇㅕㅇᴥㅎㅘᴥㅍㅕㅇᴥㅈㅓㅁᴥ'"
      ]
     },
     "execution_count": 18,
     "metadata": {},
     "output_type": "execute_result"
    }
   ],
   "source": [
    "decoded = hgtk.text.decompose(text)\n",
    "decoded"
   ]
  },
  {
   "cell_type": "code",
   "execution_count": 19,
   "metadata": {},
   "outputs": [
    {
     "data": {
      "text/plain": [
       "['ㅇ', 'ㅕ', 'ㅇ', 'ᴥ', 'ㅎ', 'ㅘ', 'ᴥ', 'ㅍ', 'ㅕ', 'ㅇ', 'ᴥ', 'ㅈ', 'ㅓ', 'ㅁ', 'ᴥ']"
      ]
     },
     "execution_count": 19,
     "metadata": {},
     "output_type": "execute_result"
    }
   ],
   "source": [
    "list(decoded)"
   ]
  },
  {
   "cell_type": "code",
   "execution_count": 16,
   "metadata": {},
   "outputs": [
    {
     "data": {
      "text/plain": [
       "b'\\xe1\\xb4\\xa5'"
      ]
     },
     "execution_count": 16,
     "metadata": {},
     "output_type": "execute_result"
    }
   ],
   "source": [
    "x = 'ᴥ'\n",
    "x.encode('utf-8')"
   ]
  },
  {
   "cell_type": "code",
   "execution_count": 17,
   "metadata": {},
   "outputs": [
    {
     "data": {
      "text/plain": [
       "'ᴥ'"
      ]
     },
     "execution_count": 17,
     "metadata": {},
     "output_type": "execute_result"
    }
   ],
   "source": [
    "b'\\xe1\\xb4\\xa5'.decode('utf-8')"
   ]
  },
  {
   "cell_type": "code",
   "execution_count": 23,
   "metadata": {},
   "outputs": [
    {
     "data": {
      "text/plain": [
       "'영ㅎㅘ'"
      ]
     },
     "execution_count": 23,
     "metadata": {},
     "output_type": "execute_result"
    }
   ],
   "source": [
    "hgtk.text.compose('ㅇㅕㅇㅎㅘ')"
   ]
  },
  {
   "cell_type": "code",
   "execution_count": 35,
   "metadata": {},
   "outputs": [
    {
     "name": "stdout",
     "output_type": "stream",
     "text": [
      "None\n"
     ]
    }
   ],
   "source": [
    "list('ㅇㅕㅇㅎㅘ').insert(3, 'ᴥ')"
   ]
  },
  {
   "cell_type": "code",
   "execution_count": 39,
   "metadata": {},
   "outputs": [],
   "source": [
    "class hangul_utils(object):\n",
    "    def __init__(self):\n",
    "        super(hangul_utils, self).__init__()\n",
    "        self.SP = 'ᴥ'\n",
    "        \n",
    "    def decompose(self, text):\n",
    "        combine_idxes = []\n",
    "        decomposed_text = []\n",
    "        for i, token in enumerate(hgtk.text.decompose(text)):\n",
    "            if token == self.SP:\n",
    "                combine_idxes.append(i)\n",
    "            else:\n",
    "                decomposed_text.append(token)\n",
    "        \n",
    "        return ''.join(decomposed_text), combine_idxes\n",
    "    \n",
    "    def compose(self, text, idxes):\n",
    "        if isinstance(text, str):\n",
    "            composed_text = list(text)\n",
    "        for idx in idxes:\n",
    "            composed_text.insert(idx, self.SP)\n",
    "        \n",
    "        return hgtk.text.compose(''.join(composed_text))\n",
    "        \n",
    "    "
   ]
  },
  {
   "cell_type": "code",
   "execution_count": 40,
   "metadata": {},
   "outputs": [],
   "source": [
    "han_utils = hangul_utils()"
   ]
  },
  {
   "cell_type": "code",
   "execution_count": 43,
   "metadata": {},
   "outputs": [
    {
     "data": {
      "text/plain": [
       "('ㅇㅕㅇㅎㅘㅍㅕㅇㅈㅓㅁ', [3, 6, 10, 14])"
      ]
     },
     "execution_count": 43,
     "metadata": {},
     "output_type": "execute_result"
    }
   ],
   "source": [
    "t, i = han_utils.decompose(text)\n",
    "t, i"
   ]
  },
  {
   "cell_type": "code",
   "execution_count": 44,
   "metadata": {},
   "outputs": [
    {
     "data": {
      "text/plain": [
       "'영화평점'"
      ]
     },
     "execution_count": 44,
     "metadata": {},
     "output_type": "execute_result"
    }
   ],
   "source": [
    "han_utils.compose(t, i)"
   ]
  },
  {
   "cell_type": "code",
   "execution_count": null,
   "metadata": {},
   "outputs": [],
   "source": []
  }
 ],
 "metadata": {
  "kernelspec": {
   "display_name": "Python 3",
   "language": "python",
   "name": "python3"
  },
  "language_info": {
   "codemirror_mode": {
    "name": "ipython",
    "version": 3
   },
   "file_extension": ".py",
   "mimetype": "text/x-python",
   "name": "python",
   "nbconvert_exporter": "python",
   "pygments_lexer": "ipython3",
   "version": "3.6.5"
  }
 },
 "nbformat": 4,
 "nbformat_minor": 2
}
