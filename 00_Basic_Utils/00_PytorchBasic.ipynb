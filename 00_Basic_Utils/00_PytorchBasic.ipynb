{
 "cells": [
  {
   "cell_type": "markdown",
   "metadata": {},
   "source": [
    "# Pytorch Basic\n",
    "---"
   ]
  },
  {
   "cell_type": "markdown",
   "metadata": {},
   "source": [
    "## What is Pytorch?\n",
    "\n",
    "> PyTorch is a deep learning framework for fast, flexible experimentation.\n",
    "\n",
    "* Articles that you can read:\n",
    "    - https://awni.github.io/pytorch-tensorflow/\n",
    "    - https://deepsense.ai/keras-or-pytorch/\n",
    "    \n",
    "I think there are many pytorch basic tutorials that you can follow. Let me introduce you some links in References, first."
   ]
  },
  {
   "cell_type": "markdown",
   "metadata": {},
   "source": [
    "## Reference\n",
    "\n",
    "* pytorch documentation: https://pytorch.org/docs/stable/index.html\n",
    "* pytorch tutorial documentaion: https://pytorch.org/tutorials/index.html\n",
    "* pytorch nlp tutorial documentaion: https://pytorch.org/tutorials/beginner/deep_learning_nlp_tutorial.html\n",
    "* PytorchZeroAll: https://github.com/hunkim/PyTorchZeroToAll\n",
    "* yunjey's pytorch tutorial: https://github.com/yunjey/pytorch-tutorial"
   ]
  },
  {
   "cell_type": "markdown",
   "metadata": {},
   "source": [
    "## Tensor\n",
    "\n",
    "What is tensor? In mathematics, a tensor is an arbitrarily complex geometric object that maps in a (multi-)linear manner geometric vectors, scalars, and other tensors to a resulting tensor. \n",
    "\n",
    "If you don't familiar with math, first you can think tensor as a container. \n",
    "\n",
    "![](./figs/2_tensor.png)\n",
    "\n",
    "In Morden PyTorch, It is similar to numpy array."
   ]
  },
  {
   "cell_type": "markdown",
   "metadata": {},
   "source": [
    "### Create a Tensor"
   ]
  },
  {
   "cell_type": "code",
   "execution_count": 1,
   "metadata": {},
   "outputs": [
    {
     "name": "stdout",
     "output_type": "stream",
     "text": [
      " torch: 1.0.0 \n",
      " numpy: 1.15.4\n"
     ]
    }
   ],
   "source": [
    "import numpy as np\n",
    "import torch\n",
    "print(f\" torch: {torch.__version__} \\n numpy: {np.__version__}\")"
   ]
  },
  {
   "cell_type": "markdown",
   "metadata": {},
   "source": [
    "`torch.Tensor` basically create tensor in float type tensor `torch.FloatTensor`, you can also create long type tensor by `torch.LongTensor`."
   ]
  },
  {
   "cell_type": "code",
   "execution_count": 2,
   "metadata": {},
   "outputs": [
    {
     "name": "stdout",
     "output_type": "stream",
     "text": [
      "tensor([[1., 2., 3.],\n",
      "        [4., 5., 6.]])\n",
      "tensor([[1, 2, 3],\n",
      "        [4, 5, 6]])\n"
     ]
    }
   ],
   "source": [
    "# create 2x3 matrix tensor from list / numpy array\n",
    "x = torch.Tensor([[1, 2, 3], [4, 5, 6]])\n",
    "y = torch.LongTensor(np.array([[1, 2, 3], [4, 5, 6]]))\n",
    "print(x)\n",
    "print(y)"
   ]
  },
  {
   "cell_type": "code",
   "execution_count": 3,
   "metadata": {},
   "outputs": [
    {
     "name": "stdout",
     "output_type": "stream",
     "text": [
      "tensor --> list: \n",
      "[[1.0, 2.0, 3.0], [4.0, 5.0, 6.0]]\n",
      "tensor --> numpy: \n",
      "[[1 2 3]\n",
      " [4 5 6]]\n"
     ]
    }
   ],
   "source": [
    "# back to list / numpy array\n",
    "print(f\"tensor --> list: \\n{x.tolist()}\")\n",
    "print(f\"tensor --> numpy: \\n{y.numpy()}\")"
   ]
  },
  {
   "cell_type": "markdown",
   "metadata": {},
   "source": [
    "random init a tensor"
   ]
  },
  {
   "cell_type": "code",
   "execution_count": 4,
   "metadata": {},
   "outputs": [
    {
     "data": {
      "text/plain": [
       "tensor([[[0.1344, 0.0791, 0.0694],\n",
       "         [0.5245, 0.3921, 0.7457],\n",
       "         [0.1981, 0.8041, 0.4248]],\n",
       "\n",
       "        [[0.9910, 0.3388, 0.2575],\n",
       "         [0.9973, 0.9845, 0.9083],\n",
       "         [0.5435, 0.1598, 0.2372]],\n",
       "\n",
       "        [[0.4444, 0.0942, 0.4111],\n",
       "         [0.2681, 0.7454, 0.7190],\n",
       "         [0.3033, 0.5510, 0.4298]]])"
      ]
     },
     "execution_count": 4,
     "metadata": {},
     "output_type": "execute_result"
    }
   ],
   "source": [
    "# generate 3 x 3 x 3 tensor\n",
    "torch.rand(3, 3, 3)"
   ]
  },
  {
   "cell_type": "markdown",
   "metadata": {},
   "source": [
    "### Tensor Manipulation"
   ]
  },
  {
   "cell_type": "code",
   "execution_count": 8,
   "metadata": {},
   "outputs": [
    {
     "name": "stdout",
     "output_type": "stream",
     "text": [
      "tensor([[[0.5455, 0.1457, 0.8374],\n",
      "         [0.6280, 0.4433, 0.0678],\n",
      "         [0.1391, 0.6799, 0.2357]],\n",
      "\n",
      "        [[0.1622, 0.0284, 0.2170],\n",
      "         [0.4316, 0.7175, 0.1293],\n",
      "         [0.5199, 0.6196, 0.4644]],\n",
      "\n",
      "        [[0.9656, 0.4092, 0.0643],\n",
      "         [0.1688, 0.1702, 0.0420],\n",
      "         [0.4616, 0.9186, 0.3965]]])\n"
     ]
    }
   ],
   "source": [
    "x = torch.rand(3, 3, 3)\n",
    "print(x)"
   ]
  },
  {
   "cell_type": "markdown",
   "metadata": {},
   "source": [
    "get size of tensor"
   ]
  },
  {
   "cell_type": "code",
   "execution_count": 9,
   "metadata": {},
   "outputs": [
    {
     "name": "stdout",
     "output_type": "stream",
     "text": [
      "torch.Size([3, 3, 3])\n",
      "torch.Size([3, 3, 3])\n"
     ]
    }
   ],
   "source": [
    "print(x.size())\n",
    "print(x.shape)"
   ]
  },
  {
   "cell_type": "markdown",
   "metadata": {},
   "source": [
    "slicing: get 3rd dimension, 1st row, 2nd column of x"
   ]
  },
  {
   "cell_type": "code",
   "execution_count": 20,
   "metadata": {},
   "outputs": [
    {
     "name": "stdout",
     "output_type": "stream",
     "text": [
      "tensor(0.4092)\n"
     ]
    }
   ],
   "source": [
    "print(x[2, 0, 1])"
   ]
  },
  {
   "cell_type": "markdown",
   "metadata": {},
   "source": [
    "### Frequently used opteration"
   ]
  },
  {
   "cell_type": "markdown",
   "metadata": {},
   "source": [
    "add, sum, mean"
   ]
  },
  {
   "cell_type": "code",
   "execution_count": null,
   "metadata": {},
   "outputs": [],
   "source": []
  }
 ],
 "metadata": {
  "kernelspec": {
   "display_name": "Python(venv)",
   "language": "python",
   "name": "venv"
  },
  "language_info": {
   "codemirror_mode": {
    "name": "ipython",
    "version": 3
   },
   "file_extension": ".py",
   "mimetype": "text/x-python",
   "name": "python",
   "nbconvert_exporter": "python",
   "pygments_lexer": "ipython3",
   "version": "3.6.7"
  }
 },
 "nbformat": 4,
 "nbformat_minor": 2
}
