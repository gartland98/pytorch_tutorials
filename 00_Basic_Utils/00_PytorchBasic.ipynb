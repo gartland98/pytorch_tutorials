{
 "cells": [
  {
   "cell_type": "markdown",
   "metadata": {},
   "source": [
    "# Pytorch Basic\n",
    "---"
   ]
  },
  {
   "cell_type": "markdown",
   "metadata": {},
   "source": [
    "## What is Pytorch?\n",
    "\n",
    "> PyTorch is a deep learning framework for fast, flexible experimentation.\n",
    "\n",
    "* Articles that you can read:\n",
    "    - https://awni.github.io/pytorch-tensorflow/\n",
    "    - https://deepsense.ai/keras-or-pytorch/\n",
    "    \n",
    "I think there are many pytorch basic tutorials that you can follow. Let me introduce you some links in References."
   ]
  },
  {
   "cell_type": "markdown",
   "metadata": {},
   "source": [
    "## Reference\n",
    "\n",
    "* pytorch documentation: https://pytorch.org/docs/stable/index.html\n",
    "* pytorch tutorial documentaion: https://pytorch.org/tutorials/index.html\n",
    "* pytorch nlp tutorial documentaion: https://pytorch.org/tutorials/beginner/deep_learning_nlp_tutorial.html\n",
    "* PytorchZeroAll: https://github.com/hunkim/PyTorchZeroToAll\n",
    "* yunjey's pytorch tutorial: https://github.com/yunjey/pytorch-tutorial"
   ]
  }
 ],
 "metadata": {
  "kernelspec": {
   "display_name": "Python 3",
   "language": "python",
   "name": "python3"
  },
  "language_info": {
   "codemirror_mode": {
    "name": "ipython",
    "version": 3
   },
   "file_extension": ".py",
   "mimetype": "text/x-python",
   "name": "python",
   "nbconvert_exporter": "python",
   "pygments_lexer": "ipython3",
   "version": "3.6.5"
  }
 },
 "nbformat": 4,
 "nbformat_minor": 2
}
