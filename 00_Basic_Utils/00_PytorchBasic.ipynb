{
 "cells": [
  {
   "cell_type": "markdown",
   "metadata": {},
   "source": [
    "# Pytorch Basic\n",
    "---"
   ]
  },
  {
   "cell_type": "markdown",
   "metadata": {},
   "source": [
    "## What is Pytorch?\n",
    "\n",
    "> PyTorch is a deep learning framework for fast, flexible experimentation.\n",
    "\n",
    "* Articles that you can read:\n",
    "    - https://awni.github.io/pytorch-tensorflow/\n",
    "    - https://deepsense.ai/keras-or-pytorch/\n",
    "    \n",
    "I think there are many pytorch basic tutorials that you can follow. Let me introduce you some links in References, first."
   ]
  },
  {
   "cell_type": "markdown",
   "metadata": {},
   "source": [
    "## Reference\n",
    "\n",
    "* pytorch documentation: https://pytorch.org/docs/stable/index.html\n",
    "* pytorch tutorial documentaion: https://pytorch.org/tutorials/index.html\n",
    "* pytorch nlp tutorial documentaion: https://pytorch.org/tutorials/beginner/deep_learning_nlp_tutorial.html\n",
    "* PytorchZeroAll: https://github.com/hunkim/PyTorchZeroToAll\n",
    "* yunjey's pytorch tutorial: https://github.com/yunjey/pytorch-tutorial"
   ]
  },
  {
   "cell_type": "markdown",
   "metadata": {},
   "source": [
    "## Tensor\n",
    "\n",
    "What is tensor? In mathematics, a tensor is an arbitrarily complex geometric object that maps in a (multi-)linear manner geometric vectors, scalars, and other tensors to a resulting tensor. \n",
    "\n",
    "In PyTorch, It is similar to numpy array."
   ]
  },
  {
   "cell_type": "markdown",
   "metadata": {},
   "source": [
    "### Create a Tensor"
   ]
  },
  {
   "cell_type": "code",
   "execution_count": 5,
   "metadata": {},
   "outputs": [
    {
     "name": "stdout",
     "output_type": "stream",
     "text": [
      " torch: 1.0.0 \n",
      " numpy: 1.15.4\n"
     ]
    }
   ],
   "source": [
    "import numpy as np\n",
    "import torch\n",
    "print(f\" torch: {torch.__version__} \\n numpy: {np.__version__}\")"
   ]
  },
  {
   "cell_type": "markdown",
   "metadata": {},
   "source": [
    "`torch.Tensor` basically create tensor in float type tensor `torch.FloatTensor`, you can also create long type tensor by `torch.LongTensor`."
   ]
  },
  {
   "cell_type": "code",
   "execution_count": 11,
   "metadata": {},
   "outputs": [
    {
     "name": "stdout",
     "output_type": "stream",
     "text": [
      "tensor([[1., 2., 3.],\n",
      "        [4., 5., 6.]])\n",
      "tensor([[1, 2, 3],\n",
      "        [4, 5, 6]])\n"
     ]
    }
   ],
   "source": [
    "# create 2x3 matrix tensor from list / numpy array\n",
    "x = torch.Tensor([[1, 2, 3], [4, 5, 6]])\n",
    "y = torch.LongTensor(np.array([[1, 2, 3], [4, 5, 6]]))\n",
    "print(x)\n",
    "print(y)"
   ]
  },
  {
   "cell_type": "code",
   "execution_count": 14,
   "metadata": {},
   "outputs": [
    {
     "name": "stdout",
     "output_type": "stream",
     "text": [
      "tensor --> list: \n",
      "[[1.0, 2.0, 3.0], [4.0, 5.0, 6.0]]\n",
      "tensor --> numpy: \n",
      "[[1 2 3]\n",
      " [4 5 6]]\n"
     ]
    }
   ],
   "source": [
    "# back to list / numpy array\n",
    "print(f\"tensor --> list: \\n{x.tolist()}\")\n",
    "print(f\"tensor --> numpy: \\n{y.numpy()}\")"
   ]
  },
  {
   "cell_type": "markdown",
   "metadata": {},
   "source": [
    "random init a tensor"
   ]
  },
  {
   "cell_type": "code",
   "execution_count": 19,
   "metadata": {},
   "outputs": [
    {
     "data": {
      "text/plain": [
       "tensor([[[0.8717, 0.8696, 0.9691],\n",
       "         [0.8374, 0.5689, 0.1465],\n",
       "         [0.7704, 0.0565, 0.8802]],\n",
       "\n",
       "        [[0.5110, 0.5724, 0.1466],\n",
       "         [0.5107, 0.6360, 0.9014],\n",
       "         [0.1925, 0.3146, 0.0357]],\n",
       "\n",
       "        [[0.0727, 0.8939, 0.3352],\n",
       "         [0.6004, 0.7361, 0.6149],\n",
       "         [0.8432, 0.9225, 0.7574]]])"
      ]
     },
     "execution_count": 19,
     "metadata": {},
     "output_type": "execute_result"
    }
   ],
   "source": [
    "# generate 3 x 3 x 3 tensor\n",
    "torch.rand(3, 3, 3)"
   ]
  },
  {
   "cell_type": "markdown",
   "metadata": {},
   "source": [
    "### Tensor Manipulation"
   ]
  },
  {
   "cell_type": "code",
   "execution_count": 18,
   "metadata": {},
   "outputs": [
    {
     "name": "stdout",
     "output_type": "stream",
     "text": [
      "tensor([[1., 2., 3.],\n",
      "        [4., 5., 6.],\n",
      "        [7., 8., 9.]])\n"
     ]
    }
   ],
   "source": [
    "x = torch.Tensor([[1, 2, 3], [4, 5, 6], [7, 8, 9]])\n",
    "print(x)"
   ]
  },
  {
   "cell_type": "markdown",
   "metadata": {},
   "source": [
    "get size of tensor"
   ]
  },
  {
   "cell_type": "code",
   "execution_count": 17,
   "metadata": {},
   "outputs": [
    {
     "data": {
      "text/plain": [
       "torch.Size([2, 3])"
      ]
     },
     "execution_count": 17,
     "metadata": {},
     "output_type": "execute_result"
    }
   ],
   "source": [
    "x.size()"
   ]
  },
  {
   "cell_type": "markdown",
   "metadata": {},
   "source": [
    "slicing: get 1st row, 2nd column of x"
   ]
  },
  {
   "cell_type": "code",
   "execution_count": 20,
   "metadata": {},
   "outputs": [
    {
     "data": {
      "text/plain": [
       "tensor(2.)"
      ]
     },
     "execution_count": 20,
     "metadata": {},
     "output_type": "execute_result"
    }
   ],
   "source": [
    "x[0, 1]"
   ]
  },
  {
   "cell_type": "markdown",
   "metadata": {},
   "source": [
    "### Tensor "
   ]
  }
 ],
 "metadata": {
  "kernelspec": {
   "display_name": "Python(venv)",
   "language": "python",
   "name": "venv"
  },
  "language_info": {
   "codemirror_mode": {
    "name": "ipython",
    "version": 3
   },
   "file_extension": ".py",
   "mimetype": "text/x-python",
   "name": "python",
   "nbconvert_exporter": "python",
   "pygments_lexer": "ipython3",
   "version": "3.6.7"
  }
 },
 "nbformat": 4,
 "nbformat_minor": 2
}
