{
 "cells": [
  {
   "cell_type": "markdown",
   "metadata": {},
   "source": [
    "# Backpropagation in Affine(Linear) Layer\n",
    "---"
   ]
  },
  {
   "cell_type": "markdown",
   "metadata": {},
   "source": [
    "## References\n",
    "* Great math notebook by 조준우 http://nbviewer.jupyter.org/github/metamath1/ml-simple-works/blob/master/fitting/matrix-derivative.ipynb\n",
    "* [Slider Share in Sungbin Lim, Mathematical Scientist @ Kakao Brain](https://www.slideshare.net/ssuser7e10e4/matrix-calculus)"
   ]
  },
  {
   "cell_type": "code",
   "execution_count": 1,
   "metadata": {},
   "outputs": [],
   "source": [
    "import numpy as np\n",
    "np.random.seed(123)"
   ]
  },
  {
   "cell_type": "markdown",
   "metadata": {},
   "source": [
    "Before do it, have to learn two concepts below to solve our problem."
   ]
  },
  {
   "cell_type": "markdown",
   "metadata": {},
   "source": [
    "### Kronecker product\n",
    "\n",
    "There are two matrix, $A: p \\times q$ and $B: r \\times s$, Kronecker product of $A$ and $B$ will have a shape of $pr \\times qs$.\n",
    "\n",
    "$$A \\otimes B = \\{ a_{ij}B \\}$$\n",
    "\n",
    "For example,\n",
    "\n",
    "$$A = \\begin{bmatrix} \\color{RoyalBlue}{a_{11}} & \\color{OrangeRed}{a_{12}} \\\\ \\color{YellowGreen}{a_{21}} & \\color{Goldenrod}{a_{22}} \\end{bmatrix}, B = \\begin{bmatrix} b_{11} & b_{12} \\\\ b_{21} & b_{22} \\\\ b_{31} & b_{32} \\end{bmatrix}$$\n",
    "\n",
    "$$\\begin{aligned}\n",
    "A \\otimes B &= \\begin{bmatrix} \\color{RoyalBlue}{a_{11}}B & \\color{OrangeRed}{a_{12}}B \\\\ \\color{YellowGreen}{a_{21}}B & \\color{Goldenrod}{a_{22}}B \\end{bmatrix} \\\\\n",
    "&= \n",
    "\\left[ \\begin{array}{cc:cc}\n",
    "\\color{RoyalBlue}{a_{11}}b_{11} & \\color{RoyalBlue}{a_{11}}b_{12} & \\color{OrangeRed}{a_{12}}b_{11} & \\color{OrangeRed}{a_{12}}b_{12} \\\\\n",
    "\\color{RoyalBlue}{a_{11}}b_{21} & \\color{RoyalBlue}{a_{11}}b_{22} & \\color{OrangeRed}{a_{12}}b_{21} & \\color{OrangeRed}{a_{12}}b_{22} \\\\\n",
    "\\color{RoyalBlue}{a_{11}}b_{31} & \\color{RoyalBlue}{a_{11}}b_{32} & \\color{OrangeRed}{a_{12}}b_{31} & \\color{OrangeRed}{a_{12}}b_{32} \\\\ \\hdashline\n",
    "\\color{YellowGreen}{a_{21}}b_{11} & \\color{YellowGreen}{a_{21}}b_{12} & \\color{Goldenrod}{a_{22}}b_{11} & \\color{Goldenrod}{a_{22}}b_{12} \\\\\n",
    "\\color{YellowGreen}{a_{21}}b_{21} & \\color{YellowGreen}{a_{21}}b_{22} & \\color{Goldenrod}{a_{22}}b_{21} & \\color{Goldenrod}{a_{22}}b_{22} \\\\\n",
    "\\color{YellowGreen}{a_{21}}b_{31} & \\color{YellowGreen}{a_{21}}b_{32} & \\color{Goldenrod}{a_{22}}b_{31} & \\color{Goldenrod}{a_{22}}b_{32} \\\\\n",
    "\\end{array} \\right]\n",
    "\\end{aligned}$$"
   ]
  },
  {
   "cell_type": "code",
   "execution_count": 2,
   "metadata": {},
   "outputs": [
    {
     "name": "stdout",
     "output_type": "stream",
     "text": [
      "===A===\n",
      "[[3 3]\n",
      " [7 2]]\n",
      "===B===\n",
      "[[4 7]\n",
      " [2 1]\n",
      " [2 1]]\n",
      "===AoB===\n",
      "[[12 21 12 21]\n",
      " [ 6  3  6  3]\n",
      " [ 6  3  6  3]\n",
      " [28 49  8 14]\n",
      " [14  7  4  2]\n",
      " [14  7  4  2]]\n"
     ]
    }
   ],
   "source": [
    "A = np.random.randint(1, 10, size=(2, 2))\n",
    "B = np.random.randint(1, 10, size=(3, 2))\n",
    "print('===A===')\n",
    "print(A)\n",
    "print('===B===')\n",
    "print(B)\n",
    "print('===AoB===')\n",
    "print(np.kron(A, B))"
   ]
  },
  {
   "cell_type": "markdown",
   "metadata": {},
   "source": [
    "### Vec & Vec Transformation\n",
    "\n",
    "In Linear Algebra, the vectorization of a matrix is a linear transformation which converts the matrix into a column vector. \n",
    "\n",
    "For a $n \\times m$ matrix $A$,\n",
    "\n",
    "$$A = \\begin{bmatrix} \n",
    "a_{11} & a_{12} & \\cdots & a_{1m} \\\\\n",
    "a_{21} & a_{22} & \\cdots & a_{2m} \\\\\n",
    "\\vdots & \\vdots & \\ddots & \\vdots \\\\\n",
    "a_{n1} & a_{n2} & \\cdots & a_{nm} \n",
    "\\end{bmatrix} = ( a_{ij} ) \\in \\Bbb{R}^{n \\times m}$$\n",
    "\n",
    "$$Vec(A) = [a_{11}, a_{12}, \\cdots, a_{1m}, a_{21}, a_{22}, \\cdots, a_{2m}, a_{n1}, a_{n2}, \\cdots , a_{nm}]^T$$\n",
    "\n",
    "Vec Transformation is the general form of Transfomation:\n",
    "\n",
    "$$A^{(1)} = \\begin{bmatrix} \n",
    "a_{11} & a_{21} & \\cdots & a_{n1} \\\\\n",
    "a_{12} & a_{22} & \\cdots & a_{n2} \\\\\n",
    "\\vdots & \\vdots & \\ddots & \\vdots \\\\\n",
    "a_{1m} & a_{2m} & \\cdots & a_{mn} \n",
    "\\end{bmatrix}= ( a_{ij} ) \\in \\Bbb{R}^{m \\times n}$$\n",
    "\n",
    "$$A^{(2)} = \\left[ \\begin{array}{c:c}\n",
    "a_{11} & a_{31} & \\cdots & a_{(n-1)1} \\\\\n",
    "a_{21} & a_{41} & \\cdots & a_{n1} \\\\ \\hdashline\n",
    "a_{12} & a_{32} & \\cdots & a_{(n-1)2} \\\\\n",
    "a_{22} & a_{42} & \\cdots & a_{n2} \\\\ \\hdashline\n",
    "\\vdots & \\vdots & \\ddots & \\vdots \\\\ \\hdashline\n",
    "a_{1m} & a_{3m} & \\cdots & a_{(n-1)m} \\\\ \n",
    "a_{2m} & a_{4m} & \\cdots & a_{nm} \n",
    "\\end{array} \\right]= ( a_{ij} ) \\in \\Bbb{R}^{2m \\times n/2}$$\n",
    "\n",
    "* $k$ must be a natural number that can be devide row number ($n$) in the matrix ($A$)"
   ]
  },
  {
   "cell_type": "code",
   "execution_count": 3,
   "metadata": {},
   "outputs": [],
   "source": [
    "def vec(x):\n",
    "    dim = np.prod(x.shape)\n",
    "    vec_x = x.reshape((dim, 1), order='F')\n",
    "    return vec_x"
   ]
  },
  {
   "cell_type": "code",
   "execution_count": 8,
   "metadata": {},
   "outputs": [],
   "source": [
    "def vec_transpose(X, k):\n",
    "    r, c = X.shape\n",
    "    assert isinstance(k, int), 'k must be int type'\n",
    "    assert r % k == 0, 'k must be a natural number that can divede matrix row number'\n",
    "    new_r, new_c = k*c, int(r/k)\n",
    "    Y = np.zeros((new_r, new_c), dtype=X.dtype)\n",
    "    \n",
    "    it = np.nditer(X, flags=['multi_index'], op_flags=['readwrite'], order='F')\n",
    "    while not it.finished:\n",
    "        r_ = it.multi_index[0] % k + it.multi_index[1] * k\n",
    "        c_ = int(it.multi_index[0]/k)\n",
    "        Y[r_, c_] = X[it.multi_index]\n",
    "        it.iternext()\n",
    "    return Y"
   ]
  },
  {
   "cell_type": "code",
   "execution_count": 15,
   "metadata": {},
   "outputs": [
    {
     "data": {
      "text/plain": [
       "array([[6, 6, 1, 3],\n",
       "       [4, 3, 1, 0],\n",
       "       [5, 8, 6, 8],\n",
       "       [9, 1, 0, 3],\n",
       "       [1, 3, 4, 7],\n",
       "       [6, 1, 4, 3],\n",
       "       [3, 7, 6, 8],\n",
       "       [6, 4, 4, 7],\n",
       "       [0, 0, 9, 8]])"
      ]
     },
     "execution_count": 15,
     "metadata": {},
     "output_type": "execute_result"
    }
   ],
   "source": [
    "A = np.random.randint(0, 10, size=(9, 4))\n",
    "A"
   ]
  },
  {
   "cell_type": "code",
   "execution_count": 18,
   "metadata": {
    "scrolled": true
   },
   "outputs": [
    {
     "data": {
      "text/plain": [
       "array([[6, 9, 3],\n",
       "       [4, 1, 6],\n",
       "       [5, 6, 0],\n",
       "       [6, 1, 7],\n",
       "       [3, 3, 4],\n",
       "       [8, 1, 0],\n",
       "       [1, 0, 6],\n",
       "       [1, 4, 4],\n",
       "       [6, 4, 9],\n",
       "       [3, 3, 8],\n",
       "       [0, 7, 7],\n",
       "       [8, 3, 8]])"
      ]
     },
     "execution_count": 18,
     "metadata": {},
     "output_type": "execute_result"
    }
   ],
   "source": [
    "vec_transpose(A, 3)"
   ]
  },
  {
   "cell_type": "markdown",
   "metadata": {},
   "source": [
    "## Object"
   ]
  },
  {
   "cell_type": "markdown",
   "metadata": {},
   "source": [
    "First let's define 3 by 1(or 1 by 3) vector ($x$) and 3 by 2 matrix ($W$)\n",
    "\n",
    "$$x = \\begin{bmatrix} x_1 \\\\ x_2 \\\\ x_3 \\end{bmatrix}, W = \\begin{bmatrix} w_{11} & w_{12} \\\\ w_{21} & w_{22} \\\\ w_{31} & w_{32} \\end{bmatrix}$$\n",
    "\n",
    "Then, define Affine layer, which is a matrix product. Get a 2 by 1(or 1 by 2) vector ($e$)\n",
    "\n",
    "$$e = x\\cdot W = x^T W = e^T $$\n",
    "\n",
    "Also can be written in element,\n",
    "\n",
    "$$\\begin{bmatrix} e_1 & e_2 \\end{bmatrix} = \\begin{bmatrix} x_1 & x_2 & x_3 \\end{bmatrix} \\begin{bmatrix} w_{11} & w_{12} \\\\ w_{21} & w_{22} \\\\ w_{31} & w_{32} \\end{bmatrix} = \\begin{bmatrix} w_{11}x_1+w_{21}x_2+w_{31}x_3 & w_{12}x_1+w_{22}x_2+w_{32}x_3 \\end{bmatrix}$$\n",
    "\n",
    "Our propose is calculate $\\dfrac{\\partial L}{\\partial W}$ to update weight matrix in $W_{new} \\leftarrow W_{old} - \\alpha \\dfrac{\\partial L}{\\partial W_{old}}$.\n",
    "\n",
    "Here $L$ is loss function doesn't matter what it is look like. "
   ]
  },
  {
   "cell_type": "markdown",
   "metadata": {},
   "source": [
    "$$\\begin{aligned} \\dfrac{\\partial e}{\\partial W} &= \\dfrac{\\partial e}{\\partial vec(W)} \\\\\n",
    "&= \\begin{bmatrix} \n",
    "\\dfrac{\\partial e_1}{\\partial w_{11}} & \\dfrac{\\partial e_2}{\\partial w_{11}} \\\\\n",
    "\\dfrac{\\partial e_1}{\\partial w_{21}} & \\dfrac{\\partial e_2}{\\partial w_{21}} \\\\\n",
    "\\dfrac{\\partial e_1}{\\partial w_{31}} & \\dfrac{\\partial e_2}{\\partial w_{31}} \\\\\n",
    "\\dfrac{\\partial e_1}{\\partial w_{12}} & \\dfrac{\\partial e_2}{\\partial w_{12}} \\\\\n",
    "\\dfrac{\\partial e_1}{\\partial w_{22}} & \\dfrac{\\partial e_2}{\\partial w_{22}} \\\\\n",
    "\\dfrac{\\partial e_1}{\\partial w_{32}} & \\dfrac{\\partial e_2}{\\partial w_{32}} \\\\\n",
    "\\end{bmatrix} \\\\\n",
    "&= \\begin{bmatrix} \n",
    "x_1 & 0 \\\\\n",
    "x_2 & 0 \\\\\n",
    "x_3 & 0 \\\\ \\hdashline\n",
    "0 & x_1 \\\\\n",
    "0 & x_2 \\\\\n",
    "0 & x_3 \\\\\n",
    "\\end{bmatrix} \\\\\n",
    "&= \\begin{bmatrix} 1 & 0 \\\\ 0 & 1\\end{bmatrix} \\otimes \\begin{bmatrix} x_1 \\\\ x_2 \\\\ x_3 \\end{bmatrix} \\\\ \n",
    "&= I(2) \\otimes x\n",
    "\\end{aligned}$$"
   ]
  },
  {
   "cell_type": "markdown",
   "metadata": {},
   "source": [
    "$$\\begin{aligned} \\dfrac{\\partial L}{\\partial W} &= \\dfrac{\\partial L}{\\partial e} \\dfrac{\\partial e}{\\partial W} \\\\\n",
    "&= \\begin{bmatrix} \\dfrac{\\partial L}{\\partial e_1} & \\dfrac{\\partial L}{\\partial e_2} \\end{bmatrix} \\cdot I(2) \\otimes x \\\\\n",
    "&= \\begin{bmatrix} \\dfrac{\\partial L}{\\partial e_1} & \\dfrac{\\partial L}{\\partial e_2} \\end{bmatrix} \\cdot \\begin{bmatrix} 1 & 0 \\\\ 0 & 1\\end{bmatrix} \\otimes \\begin{bmatrix} x_1 \\\\ x_2 \\\\ x_3 \\end{bmatrix} \\\\\n",
    "&= \\begin{bmatrix} \\dfrac{\\partial L}{\\partial e_1} \\\\ \\dfrac{\\partial L}{\\partial e_2} \\end{bmatrix} \\otimes \\begin{bmatrix} x_1 \\\\ x_2 \\\\ x_3 \\end{bmatrix} \\\\\n",
    "&= \\begin{bmatrix} \n",
    "\\dfrac{\\partial L}{\\partial e_1} x_1 \\\\ \n",
    "\\dfrac{\\partial L}{\\partial e_1} x_2 \\\\ \n",
    "\\dfrac{\\partial L}{\\partial e_1} x_3 \\\\ \n",
    "\\dfrac{\\partial L}{\\partial e_2} x_1 \\\\ \n",
    "\\dfrac{\\partial L}{\\partial e_2} x_2 \\\\ \n",
    "\\dfrac{\\partial L}{\\partial e_2} x_3 \\end{bmatrix} = B \\\\ \n",
    "\\end{aligned}$$\n",
    "\n",
    "Becauese of vector transpose, $B$ is equal to below. \n",
    "\n",
    "$$\\begin{aligned}\n",
    "B &= B^{(3)} \\rightarrow vector\\ transpose\\\\\n",
    "&= \\begin{bmatrix} \n",
    "\\dfrac{\\partial L}{\\partial e_1} x_1 & \\dfrac{\\partial L}{\\partial e_2} x_1 \\\\\n",
    "\\dfrac{\\partial L}{\\partial e_1} x_2 & \\dfrac{\\partial L}{\\partial e_2} x_2 \\\\ \n",
    "\\dfrac{\\partial L}{\\partial e_1} x_3 & \\dfrac{\\partial L}{\\partial e_2} x_3 \\end{bmatrix} \\\\\n",
    "&= \\begin{bmatrix} x_1 \\\\ x_2 \\\\ x_3 \\end{bmatrix} \\cdot \\begin{bmatrix} \\dfrac{\\partial L}{\\partial e_1} & \\dfrac{\\partial L}{\\partial e_2} \\end{bmatrix} \\\\\n",
    "\\dfrac{\\partial L}{\\partial W} &= {(x^T)}^T \\cdot \\dfrac{\\partial L}{\\partial e}\n",
    "\\end{aligned}$$"
   ]
  },
  {
   "cell_type": "markdown",
   "metadata": {},
   "source": [
    "Same for derivatives by $x$\n",
    "\n",
    "$$\\begin{aligned} \\dfrac{\\partial L}{\\partial x} \n",
    "&= \\dfrac{\\partial L}{\\partial e} \\dfrac{\\partial e}{\\partial x} \\\\ \n",
    "&= \\dfrac{\\partial L}{\\partial e} \\cdot\n",
    "\\begin{bmatrix} \n",
    "\\dfrac{\\partial e_1}{\\partial x_1} & \\dfrac{\\partial e_2}{\\partial x_1} \\\\\n",
    "\\dfrac{\\partial e_1}{\\partial x_2} & \\dfrac{\\partial e_2}{\\partial x_2} \\\\\n",
    "\\dfrac{\\partial e_1}{\\partial x_3} & \\dfrac{\\partial e_2}{\\partial x_3} \\end{bmatrix} \\\\\n",
    "&= \\dfrac{\\partial L}{\\partial e} \\cdot \\begin{bmatrix} w_{11} & w_{12} \\\\ w_{21} & w_{22} \\\\ w_{31} & w_{32} \\end{bmatrix} \\\\\n",
    "&= \\dfrac{\\partial L}{\\partial e} \\cdot W\n",
    "\\end{aligned}$$"
   ]
  }
 ],
 "metadata": {
  "kernelspec": {
   "display_name": "Python 3",
   "language": "python",
   "name": "python3"
  },
  "language_info": {
   "codemirror_mode": {
    "name": "ipython",
    "version": 3
   },
   "file_extension": ".py",
   "mimetype": "text/x-python",
   "name": "python",
   "nbconvert_exporter": "python",
   "pygments_lexer": "ipython3",
   "version": "3.6.5"
  }
 },
 "nbformat": 4,
 "nbformat_minor": 2
}
